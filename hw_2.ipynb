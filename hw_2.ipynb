{
 "cells": [
  {
   "cell_type": "code",
   "execution_count": 1,
   "metadata": {},
   "outputs": [],
   "source": [
    "%matplotlib inline\n",
    "\n",
    "import numpy as np\n",
    "from sklearn.datasets import make_regression\n",
    "import matplotlib.pyplot as plt"
   ]
  },
  {
   "cell_type": "code",
   "execution_count": 2,
   "metadata": {},
   "outputs": [],
   "source": [
    "X = np.array([[   1,    1,  500,    1],\n",
    "              [   1,    1,  700,    1],\n",
    "              [   1,    2,  750,    2],\n",
    "              [   1,    5,  600,    1],\n",
    "              [   1,    3, 1450,    2],\n",
    "              [   1,    0,  800,    1],\n",
    "              [   1,    5, 1500,    3],\n",
    "              [   1,   10, 2000,    3],\n",
    "              [   1,    1,  450,    1],\n",
    "              [   1,    2, 1000,    2]])\n",
    "\n",
    "y = [45, 55, 50, 55, 60, 35, 75, 80, 50, 60]"
   ]
  },
  {
   "cell_type": "code",
   "execution_count": 3,
   "metadata": {},
   "outputs": [],
   "source": [
    "def standart_scale(X):\n",
    "    mean = np.mean(X)\n",
    "    std = np.std(X)\n",
    "    return (X - mean) / std"
   ]
  },
  {
   "cell_type": "code",
   "execution_count": 4,
   "metadata": {},
   "outputs": [
    {
     "data": {
      "text/plain": [
       "array([[ 1.        , -0.70710678, -0.97958969,  1.        ],\n",
       "       [ 1.        , -0.70710678, -0.56713087,  1.        ],\n",
       "       [ 1.        , -0.35355339, -0.46401617,  2.        ],\n",
       "       [ 1.        ,  0.70710678, -0.77336028,  1.        ],\n",
       "       [ 1.        ,  0.        ,  0.97958969,  2.        ],\n",
       "       [ 1.        , -1.06066017, -0.36090146,  1.        ],\n",
       "       [ 1.        ,  0.70710678,  1.08270439,  3.        ],\n",
       "       [ 1.        ,  2.47487373,  2.11385144,  3.        ],\n",
       "       [ 1.        , -0.70710678, -1.08270439,  1.        ],\n",
       "       [ 1.        , -0.35355339,  0.05155735,  2.        ]],\n",
       "      dtype=float128)"
      ]
     },
     "execution_count": 4,
     "metadata": {},
     "output_type": "execute_result"
    }
   ],
   "source": [
    "X_st = X.copy().astype(np.float128)\n",
    "X_st[:, 1] = standart_scale(X[:, 1])\n",
    "X_st[:, 2] = standart_scale(X[:, 2])\n",
    "X_st"
   ]
  },
  {
   "cell_type": "markdown",
   "metadata": {},
   "source": [
    "### 1. Постройте график зависимости весов всех признаков от lambda в самописной L2-регуляризации (на данных про ЕГЭ). Сделайте вывод."
   ]
  },
  {
   "cell_type": "code",
   "execution_count": 5,
   "metadata": {},
   "outputs": [],
   "source": [
    "def calc_mse(y, y_pred):\n",
    "    err = np.mean((y - y_pred)**2)\n",
    "    return err\n",
    "\n",
    "def gradient_descent_reg_l2(X, y, iterations, eta=1e-4, reg=1e-8):\n",
    "    \n",
    "    W = np.random.randn(X.shape[1])\n",
    "    n = X.shape[0]\n",
    "    \n",
    "    for i in range(iterations):\n",
    "        y_pred = X.dot(W)\n",
    "        err = calc_mse(y, y_pred)\n",
    "        \n",
    "        dQ = 2/n * X.T @ (y_pred - y)\n",
    "        dReg = 2 * reg * W\n",
    "        \n",
    "        W -= eta * dQ + dReg\n",
    "        \n",
    "    print(f'Final W: {W}, Final MSE: {calc_mse(y, np.dot(X, W))}')\n",
    "    return W"
   ]
  },
  {
   "cell_type": "code",
   "execution_count": 6,
   "metadata": {},
   "outputs": [
    {
     "name": "stdout",
     "output_type": "stream",
     "text": [
      "Final W: [21.40458602  3.67938308 -5.39655613 19.38526787], Final MSE: 46.38566750559664\n",
      "Final W: [20.4459035   3.35892711 -5.30364583 19.7568823 ], Final MSE: 49.554144615888475\n",
      "Final W: [19.54847257  3.02802883 -5.14680546 20.06152271], Final MSE: 53.20499793383582\n",
      "Final W: [18.70805714  2.69366381 -4.93114681 20.29645996], Final MSE: 57.49069886809925\n",
      "Final W: [17.91865227  2.36381382 -4.66352243 20.45934681], Final MSE: 62.61664932095964\n",
      "Final W: [17.17305023  2.04696942 -4.35200233 20.54789721], Final MSE: 68.85761624406531\n",
      "Final W: [16.46331666  1.75150895 -4.00533389 20.55966019], Final MSE: 76.57958290527145\n",
      "Final W: [15.78118128  1.48502492 -3.63245306 20.49190324], Final MSE: 86.26689709314317\n",
      "Final W: [15.11836753  1.25368025 -3.24210525 20.34160978], Final MSE: 98.55334401789716\n",
      "Final W: [14.46689134  1.0616741  -2.84261048 20.10558993], Final MSE: 114.25426005305955\n",
      "Final W: [13.81935329  0.91087988 -2.44177214 19.78070219], Final MSE: 134.39512023023926\n",
      "Final W: [13.16923546  0.80069603 -2.04689278 19.3641824 ], Final MSE: 160.2302503980524\n",
      "Final W: [12.5111994   0.72812618 -1.66483382 18.85407168], Final MSE: 193.2435525128457\n",
      "Final W: [11.84136862  0.68808363 -1.30204747 18.2497259 ], Final MSE: 235.12168522850286\n",
      "Final W: [11.15757116  0.6738932  -0.96452229 17.55237293], Final MSE: 287.6896533870092\n",
      "Final W: [10.45951395  0.67794145 -0.65761525 16.76566385], Final MSE: 352.80031582943883\n",
      "Final W: [ 9.74886195  0.6924043  -0.38578459 15.89614231], Final MSE: 432.1743031725878\n",
      "Final W: [ 9.02919841  0.70996441 -0.15227679 14.95354099], Final MSE: 527.1963120678632\n",
      "Final W: [ 8.3058496   0.72442642  0.04115543 13.95081305], Final MSE: 638.6873626650109\n",
      "Final W: [ 7.58556833  0.73115137  0.19442608 12.90382782], Final MSE: 766.6874905310948\n",
      "Final W: [ 6.87608648  0.72726211  0.30912421 11.83070729], Final MSE: 910.2939329672572\n",
      "Final W: [ 6.18556833  0.71161297  0.38834063 10.75084538], Final MSE: 1067.5996885144436\n",
      "Final W: [5.52201748 0.68455892 0.43633796 9.6837209 ], Final MSE: 1235.76247294666\n",
      "Final W: [4.89270534 0.64758978 0.45812161 8.6476652 ], Final MSE: 1411.2065460993315\n",
      "Final W: [4.30369073 0.60290819 0.45898454 7.65875939], Final MSE: 1589.9280435250284\n",
      "Final W: [3.75948598 0.55302426 0.4440937  6.73000809], Final MSE: 1767.8497301501277\n",
      "Final W: [3.26289821 0.5004199  0.41816701 5.87087612], Final MSE: 1941.1622981450128\n",
      "Final W: [2.81504324 0.44731053 0.38526374 5.08720122], Final MSE: 2106.59837605792\n",
      "Final W: [2.41550306 0.39550741 0.34868685 4.38143189], Final MSE: 2261.607074505436\n",
      "Final W: [2.06258135 0.34636718 0.31097852 3.75309839], Final MSE: 2404.4222318180755\n",
      "Final W: [1.75360768 0.3008057  0.2739819  3.19941201], Final MSE: 2534.038415836472\n",
      "Final W: [1.48524709 0.25935224 0.23894129 2.71589731], Final MSE: 2650.120804264803\n",
      "Final W: [1.25378283 0.22222279 0.2066174  2.29698541], Final MSE: 2752.8780567261115\n",
      "Final W: [1.05535372 0.18939723 0.17740088 1.93652371], Final MSE: 2842.923669751756\n",
      "Final W: [0.88613833 0.16069038 0.15141373 1.62818198], Final MSE: 2921.144369834031\n",
      "Final W: [0.74248709 0.13581187 0.12859393 1.36575324], Final MSE: 2988.586626072293\n",
      "Final W: [0.62100833 0.1144134  0.10876215 1.14335985], Final MSE: 3046.3660515163383\n"
     ]
    },
    {
     "name": "stderr",
     "output_type": "stream",
     "text": [
      "<ipython-input-5-52b0a4d0688f>:15: RuntimeWarning: overflow encountered in multiply\n",
      "  dReg = 2 * reg * W\n",
      "<ipython-input-5-52b0a4d0688f>:14: RuntimeWarning: invalid value encountered in matmul\n",
      "  dQ = 2/n * X.T @ (y_pred - y)\n",
      "<ipython-input-5-52b0a4d0688f>:17: RuntimeWarning: invalid value encountered in subtract\n",
      "  W -= eta * dQ + dReg\n"
     ]
    },
    {
     "name": "stdout",
     "output_type": "stream",
     "text": [
      "Final W: [nan nan nan nan], Final MSE: nan\n",
      "Final W: [nan nan nan nan], Final MSE: nan\n",
      "Final W: [nan nan nan nan], Final MSE: nan\n",
      "Final W: [nan nan nan nan], Final MSE: nan\n",
      "Final W: [nan nan nan nan], Final MSE: nan\n",
      "Final W: [nan nan nan nan], Final MSE: nan\n",
      "Final W: [nan nan nan nan], Final MSE: nan\n",
      "Final W: [nan nan nan nan], Final MSE: nan\n",
      "Final W: [nan nan nan nan], Final MSE: nan\n",
      "Final W: [nan nan nan nan], Final MSE: nan\n",
      "Final W: [nan nan nan nan], Final MSE: nan\n",
      "Final W: [nan nan nan nan], Final MSE: nan\n",
      "Final W: [nan nan nan nan], Final MSE: nan\n"
     ]
    },
    {
     "data": {
      "image/png": "[encoded data removed]",
      "text/plain": [
       "<Figure size 432x288 with 1 Axes>"
      ]
     },
     "metadata": {
      "needs_background": "light"
     },
     "output_type": "display_data"
    }
   ],
   "source": [
    "lambda_list = np.logspace(-3, 1, 50)\n",
    "w_list = []\n",
    "\n",
    "for i in lambda_list:\n",
    "    w_list.append(gradient_descent_reg_l2(X_st, y, 10000, eta=1e-2, reg=i))\n",
    "\n",
    "w_list = np.array(w_list)\n",
    "\n",
    "for j in range(w_list.shape[1]):\n",
    "    plt.plot(lambda_list, w_list[:, j])\n",
    "\n",
    "plt.xlabel('lambda')\n",
    "plt.ylabel('Веса признаков')\n",
    "plt.show()"
   ]
  },
  {
   "cell_type": "markdown",
   "metadata": {},
   "source": [
    "### 2. Напишите функцию наподобие gradient_descent_reg_l2, но для применения L1-регуляризации."
   ]
  },
  {
   "cell_type": "code",
   "execution_count": 7,
   "metadata": {},
   "outputs": [],
   "source": [
    "def gradient_descent_reg_l1(X, y, iterations, eta=1e-4, reg=1e-8):\n",
    "    W = np.random.randn(X.shape[1])\n",
    "    n = X.shape[0]\n",
    "    \n",
    "    for i in range(iterations):\n",
    "        y_pred = X.dot(W)\n",
    "        err = calc_mse(y, y_pred)\n",
    "        \n",
    "        dQ = 2/n * X.T @ (y_pred - y)\n",
    "        dReg = reg * W/abs(W)\n",
    "        \n",
    "        W -= eta * dQ + dReg\n",
    "    \n",
    "    print(f'Final W: {W}, Final MSE: {calc_mse(y, np.dot(X, W))}')\n",
    "    return W"
   ]
  },
  {
   "cell_type": "code",
   "execution_count": 8,
   "metadata": {},
   "outputs": [
    {
     "name": "stdout",
     "output_type": "stream",
     "text": [
      "Final W: [40.56141192  6.05858633 -0.76340085  9.32115912], Final MSE: 25.031736300248745\n",
      "Final W: [40.50890187  6.01012783 -0.73233959  9.3454954 ], Final MSE: 25.048286330536975\n",
      "Final W: [40.4313169   5.95154374 -0.70059114  9.38299206], Final MSE: 25.073294431264642\n",
      "Final W: [40.50434378  5.88207258 -0.59503416  9.33296099], Final MSE: 25.085290282369836\n",
      "Final W: [40.48100274  5.79741415 -0.51262501  9.33631396], Final MSE: 25.120953317036182\n",
      "Final W: [40.3741719   5.69466949 -0.44491363  9.38533416], Final MSE: 25.183469909333258\n",
      "Final W: [40.3351415   5.5713402  -0.32692983  9.39309746], Final MSE: 25.260177783630276\n",
      "Final W: [40.35251829  5.4229823  -0.15853178  9.36560208], Final MSE: 25.363414958872013\n",
      "Final W: [ 4.01634038e+01  5.24239747e+00 -4.00763188e-02  9.45253210e+00], Final MSE: 25.54420205412962\n",
      "Final W: [ 3.99842720e+01  5.10963816e+00 -1.03970249e-03  9.53820327e+00], Final MSE: 25.69001541303597\n",
      "Final W: [ 3.96740972e+01  4.96920498e+00 -1.03466919e-02  9.69392441e+00], Final MSE: 25.884247211635333\n",
      "Final W: [ 3.91637771e+01  4.75439228e+00 -1.06870037e-02  9.95647628e+00], Final MSE: 26.24260495926705\n",
      "Final W: [ 3.85314939e+01  4.48928789e+00 -4.60519455e-03  1.02824352e+01], Final MSE: 26.766892627699832\n",
      "Final W: [ 3.77600349e+01  4.16728712e+00 -1.07764264e-02  1.06805004e+01], Final MSE: 27.515937249617863\n",
      "Final W: [ 3.67759023e+01  3.76117818e+00 -8.96028373e-03  1.11903440e+01], Final MSE: 28.653365028071114\n",
      "Final W: [ 3.55792378e+01  3.26840150e+00 -1.18168745e-02  1.18103326e+01], Final MSE: 30.309207094819797\n",
      "Final W: [ 3.41460187e+01  2.67615488e+00 -4.68135453e-03  1.25524702e+01], Final MSE: 32.704952264990396\n",
      "Final W: [ 3.23916215e+01  1.95375981e+00 -3.22514568e-02  1.34616505e+01], Final MSE: 36.19525279263202\n",
      "Final W: [ 3.02779971e+01  1.08397289e+00 -2.42704697e-04  1.45575996e+01], Final MSE: 41.32298566566746\n",
      "Final W: [27.7288495   0.03312034 -0.03937262 15.87753782], Final MSE: 48.69749594834996\n",
      "Final W: [2.66388005e+01 4.22804877e-02 2.03418162e-03 1.63038257e+01], Final MSE: 51.335710138967066\n",
      "Final W: [ 2.53014270e+01 -2.32705508e-02 -2.06954710e-03  1.68287505e+01], Final MSE: 55.360984657910585\n",
      "Final W: [2.36892395e+01 7.16075573e-02 1.89638273e-02 1.74624714e+01], Final MSE: 60.852222075178226\n",
      "Final W: [ 2.17541934e+01  3.44592457e-03 -8.37629503e-02  1.82195388e+01], Final MSE: 68.69059124214743\n",
      "Final W: [19.40804751  0.0459898  -0.13306379 19.14046475], Final MSE: 80.23278313805257\n",
      "Final W: [1.65911080e+01 2.08985923e-03 3.58691139e-02 2.02455397e+01], Final MSE: 98.55073997272808\n",
      "Final W: [13.15570013 -0.09166544  0.02161632 21.59544205], Final MSE: 123.69413803311086\n",
      "Final W: [ 9.06119492e+00  6.96255293e-02 -7.80778382e-03  2.32007614e+01], Final MSE: 160.70616564603208\n",
      "Final W: [ 4.07101611e+00 -2.34692843e-01 -5.86969865e-03  2.51606803e+01], Final MSE: 212.79103911565392\n",
      "Final W: [ 0.40473451  0.04253231 -0.3580299  26.49242547], Final MSE: 257.67405076697787\n",
      "Final W: [1.50687506e-01 6.34036617e-02 1.38209497e-02 2.57571226e+01], Final MSE: 288.14828256289667\n",
      "Final W: [ 0.45777798  0.10914104  0.13275764 24.908784  ], Final MSE: 307.98560685775163\n",
      "Final W: [-0.06671298 -0.37808434 -0.28008437 23.88404576], Final MSE: 354.28787893308476\n",
      "Final W: [ 0.79359133 -0.2800803  -0.36226468 22.66353031], Final MSE: 381.014750015439\n",
      "Final W: [-5.16538697e-05  7.39668351e-02 -5.70807315e-01  2.11504902e+01], Final MSE: 493.3037036113185\n",
      "Final W: [-0.22601143  0.23215029 -0.53582432 19.37991316], Final MSE: 624.2922834666869\n",
      "Final W: [ 0.44699229 -0.84338102 -0.55221757 17.13398189], Final MSE: 776.679963499549\n",
      "Final W: [ 0.05871931  0.89781975 -0.25496563 14.53738777], Final MSE: 1046.2111681011797\n",
      "Final W: [ 0.60343037  0.77318445 -0.35047293 11.417246  ], Final MSE: 1373.489733737724\n",
      "Final W: [ 0.89998804  0.60452147 -1.11309929  7.55646427], Final MSE: 1899.4971486446689\n",
      "Final W: [ 2.83857789 -0.16467781  0.70807921  3.05479048], Final MSE: 2455.0443681186675\n",
      "Final W: [0.96990382 2.16869697 0.4692941  1.57886362], Final MSE: 2882.643826005991\n",
      "Final W: [ 3.05803286 -1.45398054 -0.55014941  4.45782704], Final MSE: 2236.27899677687\n",
      "Final W: [-1.54273694  1.23048606 -2.16201168  4.62177866], Final MSE: 2626.926949473329\n",
      "Final W: [ 0.81980678  0.00565329  2.74292848 -1.64773104], Final MSE: 3553.669153358063\n",
      "Final W: [-1.65111073 -1.32296603 -3.15445848 -1.18619762], Final MSE: 3920.927428360522\n",
      "Final W: [0.04755254 3.07681759 0.01487116 1.96693389], Final MSE: 2899.6574687371085\n",
      "Final W: [-3.96872061  1.95070168 -2.67343623  0.48320905], Final MSE: 3725.8207476830976\n",
      "Final W: [ 5.0102288   3.18521561  7.01073084 -4.29547223], Final MSE: 3522.4247902234556\n",
      "Final W: [ 0.19376019  4.01148288  7.43078978 -3.02201061], Final MSE: 3823.6032563781205\n"
     ]
    },
    {
     "data": {
      "image/png": "[encoded data removed]",
      "text/plain": [
       "<Figure size 432x288 with 1 Axes>"
      ]
     },
     "metadata": {
      "needs_background": "light"
     },
     "output_type": "display_data"
    }
   ],
   "source": [
    "lambda_list = np.logspace(-3, 1, 50)\n",
    "w_list = []\n",
    "\n",
    "for i in lambda_list:\n",
    "    w_list.append(gradient_descent_reg_l1(X_st, y, 5000, eta=1e-2, reg=i))\n",
    "\n",
    "w_list = np.array(w_list)\n",
    "\n",
    "for j in range(w_list.shape[1]):\n",
    "    plt.plot(lambda_list, w_list[:, j])\n",
    "\n",
    "plt.xlabel('lambda')\n",
    "plt.ylabel('Веса признаков')\n",
    "plt.show()"
   ]
  },
  {
   "cell_type": "markdown",
   "metadata": {},
   "source": [
    "### 3.* Можно ли к одному и тому же признаку применить сразу и нормализацию, и стандартизацию?"
   ]
  },
  {
   "cell_type": "code",
   "execution_count": null,
   "metadata": {},
   "outputs": [],
   "source": []
  },
  {
   "cell_type": "markdown",
   "metadata": {},
   "source": [
    "### 4.* Сгенерируйте датасет при помощи sklearn.datasets.make_regression и обучите линейную модель при помощи градиентного и стохастического градиентного спуска. Нанесите среднеквадратичную ошибку для обоих методов на один график, сделайте выводы о разнице скорости сходимости каждого из методов."
   ]
  },
  {
   "cell_type": "code",
   "execution_count": 10,
   "metadata": {},
   "outputs": [
    {
     "data": {
      "text/plain": [
       "(array([[-0.23149741,  0.25508069, -0.23963207],\n",
       "        [ 0.7788969 ,  0.08905337, -0.96476347],\n",
       "        [-0.18267639, -0.62544803,  1.77918821],\n",
       "        ...,\n",
       "        [ 0.76242483,  0.21483031, -1.00324514],\n",
       "        [ 0.5587132 , -0.51999175,  0.81481454],\n",
       "        [-0.87171441,  2.56686854, -0.04623622]]),\n",
       " array([ 2.30537500e+00, -1.31565689e+01, -5.38667153e+00, -1.03374570e+02,\n",
       "        -7.02352844e+01,  2.99538801e+01,  7.16948255e-01, -6.04472551e+01,\n",
       "        -8.71288911e+01,  2.79583759e+00,  2.85491645e+01, -7.01224873e+01,\n",
       "        -9.55027657e+01, -1.51225219e+02, -2.42984459e+01,  1.04425162e+02,\n",
       "        -7.02326535e+01, -1.47517417e+02,  4.74740849e+00,  1.30741920e+02,\n",
       "        -1.14692671e+02, -1.64455928e+00,  6.40531490e+01,  6.62736841e+01,\n",
       "        -1.82784364e+00, -1.83005664e+02,  5.21582092e+01, -1.23218586e+02,\n",
       "        -2.09252322e+01, -8.09495351e+00,  2.84734681e+01,  6.60583295e+01,\n",
       "        -5.37556952e+01,  1.04758322e+01, -1.51809547e+02, -5.32726917e+01,\n",
       "         2.32251866e+01, -4.39087778e+01, -2.44160879e+01, -6.74854622e+01,\n",
       "         1.11136150e+02, -1.37299899e+02,  4.89281042e+00,  6.86961420e+01,\n",
       "        -2.68037433e+01, -2.60042793e+02, -3.68983314e+01,  2.46627725e+01,\n",
       "        -1.14512664e+02, -3.76618482e+01, -4.20461432e+01, -1.77847366e+01,\n",
       "         3.20622433e+01, -5.69175767e+01,  1.42089410e+02, -6.67874673e+01,\n",
       "        -2.05249880e+01, -1.61189805e+01,  3.68689818e+01, -9.76098907e+01,\n",
       "        -1.85758169e+02,  1.42770770e+01,  4.24825507e+01,  9.08214850e+01,\n",
       "         8.28746255e+00,  4.68312886e+01,  4.93617847e+00,  2.15217791e+01,\n",
       "        -5.25685305e+01,  5.79603101e+01,  4.01825038e+01,  1.70328911e+01,\n",
       "         4.49728987e+01, -3.34180212e+01, -1.33945970e+02, -7.98332820e+01,\n",
       "        -2.00882470e+01, -3.34026955e+00,  5.11161752e+01, -1.42767643e+02,\n",
       "        -2.48906512e+01, -2.68920653e+01, -9.83214604e+01,  5.37046949e+01,\n",
       "         3.79911796e+01,  4.26974750e+01, -9.83390095e+00,  4.16900980e+01,\n",
       "        -1.54875539e+01, -1.62795412e+02,  2.28344094e+02, -7.27387793e+01,\n",
       "        -6.63551826e+01,  6.20734618e+01, -1.90933584e+02, -2.04868791e+01,\n",
       "         8.84645465e+01, -1.46213616e+00, -5.74089501e+01, -8.91562526e+01,\n",
       "        -1.65714482e+01,  8.41747046e-01, -3.62110331e+01,  1.77071473e+01,\n",
       "        -2.31726634e+01,  1.25337107e+02, -1.59483872e+01, -9.36986990e+01,\n",
       "        -6.85826251e+01,  1.77340800e+01,  4.96679002e+01, -6.08458930e+01,\n",
       "        -3.76382971e+01,  1.63338278e+01,  2.73976023e+01, -1.21853050e+02,\n",
       "         3.72818003e+01,  4.04456989e+01,  1.01172418e+02,  2.10107064e+00,\n",
       "         8.90573540e+01, -6.91691943e+01, -8.45928340e+01, -6.24239465e+01,\n",
       "        -7.74967664e+01, -1.17990451e+01,  1.06643360e+02,  5.31139799e+01,\n",
       "         8.80407362e+01, -2.80056691e+01,  7.97732572e+01, -9.41988169e+01,\n",
       "         2.23140347e+01,  5.30563069e+01,  2.94526648e+01, -7.12351450e+01,\n",
       "        -4.53598231e+00, -7.61218693e+01, -5.78312855e+01, -6.94689709e+00,\n",
       "        -1.32556838e+02,  4.70541216e+01, -2.14721021e+01, -9.38747562e+01,\n",
       "         1.47418584e+02, -1.19356443e+02,  8.11554779e+01, -3.94754282e+01,\n",
       "         1.11266015e+01,  1.42528258e+00,  1.12176971e+02, -3.43513345e+01,\n",
       "         3.86032608e+01,  1.05408086e+02,  7.65394614e+00,  1.33303012e+02,\n",
       "        -1.76985194e+02, -1.36115662e+02, -1.29250651e+02, -1.08915895e+02,\n",
       "         2.50339524e+01,  5.59298462e+01, -1.24230724e+01,  2.81999005e+01,\n",
       "        -9.69898702e+00, -6.38785172e+01,  1.17106932e+02,  8.98967249e+01,\n",
       "        -6.77672505e+01,  4.72567742e+01, -1.62780422e+01,  3.39052006e+00,\n",
       "         9.27520000e+01,  1.33682545e+02,  1.05880782e+02, -5.54412030e+01,\n",
       "         8.30801735e+01,  4.70459238e+01,  6.04734940e+01,  8.56809877e+01,\n",
       "        -3.67057719e+01,  1.40546427e+01,  9.76135318e+00, -3.16980081e+01,\n",
       "         1.05460071e+02, -6.76411995e+01, -3.43198096e+01,  3.09300302e+01,\n",
       "        -1.35543428e+02,  1.07290615e+02,  1.29976897e+02, -3.03212076e+01,\n",
       "         3.20215582e+01,  6.63457054e+01, -2.31417767e+02,  1.40586635e+02,\n",
       "        -1.56764026e+02,  1.10081482e+02,  4.31767830e+01, -2.01581949e+02,\n",
       "         4.05359030e+01,  1.05185462e+02,  8.15884965e+01,  3.24859977e+01,\n",
       "         4.48059453e+01, -5.34639958e+01,  5.13115970e+01, -1.30856220e+02,\n",
       "         2.89515624e+01, -1.97682945e+01, -2.96090980e+01,  6.78404895e+00,\n",
       "         3.88608352e+01, -1.05108121e+02, -8.00349190e+00,  7.16005850e+01,\n",
       "        -1.24217552e+01,  8.70939905e+01, -3.73947859e+00,  2.65188939e+02,\n",
       "        -6.08169638e+01,  1.21957711e+02, -3.33416313e+00, -1.30734406e+02,\n",
       "         1.46718407e+02, -1.07849511e+01,  1.53879239e+00,  2.43279091e+00,\n",
       "         3.07811668e+02, -6.82877754e+00, -3.95516184e+01,  7.73250695e+01,\n",
       "         6.05954429e+01,  1.60125748e+01, -1.10013150e+01,  1.00333985e+02,\n",
       "        -2.11591893e+01, -9.53688675e+01,  8.22908220e+01,  1.01272906e+02,\n",
       "         1.20178224e+02,  2.75534182e+01, -9.60204488e+00,  6.48200313e+01,\n",
       "         1.16085999e+02, -5.16611134e+01,  5.02178281e+00,  3.69207233e+01,\n",
       "         1.62781728e+02,  6.46123531e+01,  2.53191491e+01,  1.51623463e+02,\n",
       "         8.13413538e+01, -7.72949377e+01, -1.22671824e+02, -9.14058225e+01,\n",
       "         1.37795937e+02,  1.20927794e+01, -1.83241083e+01, -4.35593918e+01,\n",
       "         1.67057655e+01, -9.82654592e+01, -1.33196506e+02, -9.57876066e+01,\n",
       "         1.06451763e+02,  1.02088311e+02,  2.48756553e+00,  6.39446054e+00,\n",
       "         2.03587959e+01, -5.40704944e+01, -1.30033108e+01, -7.78302746e+01,\n",
       "         4.17288355e+00,  7.76275129e+01, -9.88803061e+01,  9.58602681e+01,\n",
       "         5.01100696e+01, -2.95702726e+01,  6.58061756e+01, -4.61821636e+00,\n",
       "         1.39419410e+02, -8.01277061e+01, -1.13312585e+02,  2.71792785e+01,\n",
       "        -2.82745420e+01, -8.48571200e+01, -1.29356727e+02,  1.58107263e+01,\n",
       "        -8.37183800e+01, -5.55656912e+00, -4.49106843e+01, -1.58472041e+01,\n",
       "         1.52770223e+02,  5.90644922e+01, -5.53245640e+01,  5.54218632e+01,\n",
       "        -9.60928383e+01, -4.63012299e+01,  3.02228929e+01,  6.24854045e+01,\n",
       "         1.70352750e+02, -6.74775774e+01,  5.38236752e+01,  1.20471417e+02,\n",
       "        -7.84578861e+01,  1.46253166e+02, -1.95215317e+01, -5.38408132e+01,\n",
       "        -1.23347067e+02, -1.16773166e+02,  2.37489855e+01, -2.15369210e+01,\n",
       "         9.03183429e+01, -6.91178840e+01, -2.33137696e+02,  9.37856502e+01,\n",
       "        -4.01391109e+01, -2.69960386e+01,  1.96078491e+01, -4.99416338e+01,\n",
       "         8.98084331e+01,  1.42188247e+01, -1.73743666e+01, -1.69588013e+02,\n",
       "         3.12091354e+01, -2.65195008e+01, -2.95618593e+01,  1.06119804e+02,\n",
       "        -1.83527114e-03, -3.89981632e+01, -2.27341327e+02, -4.04401547e+01,\n",
       "        -1.93301726e+02, -5.13524291e+01, -1.45079239e+02,  7.88223101e+01,\n",
       "        -2.40167808e+02, -1.42936684e+02,  7.16702192e+01,  1.62176460e+02,\n",
       "         1.00786810e+02,  6.68340987e+01,  1.63730985e+01,  1.15274867e+02,\n",
       "         5.53729634e+01,  8.50844997e+00,  3.24215823e+01, -2.82679835e+01,\n",
       "         8.13390204e+01, -1.32145740e+01, -9.17896882e+01,  2.32949114e+01,\n",
       "         1.25779917e+02,  2.60752395e+01,  6.45219198e+01, -1.33907319e+02,\n",
       "         8.12928956e+01,  8.81037658e+00, -1.56356495e+02,  8.20879694e+00,\n",
       "         3.22270752e+01, -1.59345914e+01,  5.38272197e+00,  5.89725628e+01,\n",
       "         1.17130398e+02, -4.60724773e+01, -3.47491990e+01, -5.90276547e+01,\n",
       "         1.26781072e+02,  7.68377243e+01, -7.46197028e+00,  9.99534345e+01,\n",
       "        -5.84436176e+01, -2.35308319e+02,  5.95854068e+00, -5.15971902e+01,\n",
       "        -3.26959081e+00, -2.49300081e+00, -2.55898503e+01, -1.34209108e+02,\n",
       "         5.54373981e+01, -4.20262230e+01,  6.34321866e+01,  1.09965366e+02,\n",
       "        -2.01831078e+02, -6.11222434e+01, -3.18562317e+01,  1.28739738e+01,\n",
       "         9.20628928e+01, -5.72911270e+01,  2.45807970e+01,  1.61749976e+02,\n",
       "         1.05283849e+02, -1.53331073e+02, -1.79252609e+02, -4.19736310e+01,\n",
       "         7.41440010e+01,  3.22398020e+01,  1.55549829e+00,  1.74453429e+01,\n",
       "         1.24689093e+02, -5.76952891e+01,  6.69903389e+00,  7.71223405e+01,\n",
       "         4.87032859e+00, -5.02574996e+01, -1.16838272e+02,  5.56653701e+01,\n",
       "        -6.31186649e+00, -1.03384122e+02, -1.36183062e+00,  7.26732753e+01,\n",
       "         2.37621843e+01, -3.67571298e+01, -2.79254911e+01,  6.24398743e+01,\n",
       "        -7.57218683e+01,  1.98891439e+01, -7.42510778e+01,  3.57919336e+01,\n",
       "         3.98882429e+01,  5.88720889e+01, -1.08726815e+02, -1.14535981e+02,\n",
       "        -3.51446380e+01, -7.31336509e+01, -6.63583457e+01,  4.74744236e+01,\n",
       "         6.74335149e+01, -7.93781840e+01, -6.29686677e+01, -4.35578117e+01,\n",
       "        -7.10188842e+01,  2.06735035e+02,  1.68351392e+02, -9.46429877e+01,\n",
       "        -2.16914886e+01,  2.89623263e+01, -1.64507178e+01, -5.48168507e+01,\n",
       "        -5.12313463e+01, -4.20514014e+01, -1.26888639e+02,  5.00973757e+01,\n",
       "         1.40316572e+02, -7.92996291e+01, -1.94407424e+02, -1.96378237e+01,\n",
       "         1.74390257e+02, -3.65628289e+00, -8.38520046e+01,  6.49388046e+01,\n",
       "         4.37871917e+01,  5.78413720e+01,  1.13946959e+02,  6.47435581e+01,\n",
       "         1.02802728e+02,  8.46606655e+01, -1.47382656e+02,  7.44481632e+01,\n",
       "         6.28612553e+01, -3.08870519e+01,  1.12287281e+02,  2.09075068e+01,\n",
       "         1.30114052e+02,  1.17054197e+02, -3.74343806e+01,  9.94331534e+01,\n",
       "        -8.78606101e+00,  7.81609532e+01,  4.34553370e+01,  9.37056611e+00,\n",
       "         1.68626099e+02, -3.66418102e+01,  4.18937463e+01,  1.23541340e+02,\n",
       "         5.03046623e+01,  1.24093100e+02, -5.89308933e+01,  9.86132549e+01,\n",
       "         2.96939231e+01, -2.08393419e+01,  3.50181052e+01, -3.80597324e+01,\n",
       "         1.54023582e+02,  6.54787366e+01,  1.50777700e+02,  7.94570344e+01,\n",
       "        -7.39473205e+01,  5.65782885e+01, -3.43684688e+01, -4.70730468e+01,\n",
       "        -6.03514362e+01,  5.33137530e+01,  1.96448648e+01, -2.23977938e+01,\n",
       "         9.30165128e+01,  1.34211351e+02,  6.33285108e+01, -7.32838189e+00,\n",
       "        -6.84754092e+01, -2.03651717e+02, -8.34564480e+01,  1.75779649e+01,\n",
       "         1.77328898e+01,  1.59534636e+01, -6.86384360e+01, -1.11122498e+02,\n",
       "        -8.22238481e+00, -1.03737843e+02, -9.04885494e+00,  1.15471458e+02,\n",
       "        -5.79210537e+01, -1.18582759e+02, -1.07347798e+02,  6.03510949e+01,\n",
       "         1.18669886e+01, -4.70874494e+01, -9.59343298e+01, -2.44697455e+01,\n",
       "         1.36279236e+02, -1.36069557e+02,  1.68610178e+01, -2.81754338e+01,\n",
       "        -8.54956120e+01, -2.63737205e+01,  1.26780798e+02,  1.24879377e+02,\n",
       "        -3.70598927e+01, -5.08697456e+01, -6.41895623e+01, -5.20760431e+01,\n",
       "         1.96130294e+02,  4.92140456e+01,  6.50422897e+01,  6.39765462e+01,\n",
       "        -4.25677521e-01,  6.32160971e+01,  3.94069280e+01, -1.80331740e+01,\n",
       "        -3.20705971e+01, -3.67962296e+01,  5.51558259e+01,  1.14822748e+02,\n",
       "         9.88129442e+01,  4.36252288e-01,  7.00739287e+01,  7.73414457e+01,\n",
       "        -2.00617568e+01, -7.02149673e+01, -2.48647190e+01, -1.15067533e+02,\n",
       "        -7.54896352e+01, -4.82784119e+01,  1.29103669e+02,  1.64223520e+01,\n",
       "         9.42656363e+01, -1.34590790e+02,  6.88321839e+01, -6.82144974e+01,\n",
       "        -4.71288080e+01,  1.81282676e+00, -8.25754738e+00,  6.05080482e+01,\n",
       "         1.10488442e+00,  9.70379212e+01, -7.07091497e+01, -1.49252072e+02,\n",
       "        -6.10113020e+01, -1.57505618e+02, -1.16536215e+02, -5.49773490e+01,\n",
       "        -5.86096811e+00, -5.25669701e+01, -7.04331343e+01, -6.63681084e+01,\n",
       "         1.47760167e+02,  5.03494036e+01,  1.14686722e+02,  1.60355922e+02,\n",
       "        -1.69430555e+01, -6.23998056e+01, -5.83848351e+01,  4.89380113e+01,\n",
       "        -8.14255935e+01, -7.11426575e+01, -1.26614642e+02,  2.74877125e+01,\n",
       "        -4.55445590e+01,  1.14334775e+01, -5.56644120e+01,  1.17509136e+02,\n",
       "        -8.84537214e+01,  1.25476118e+01, -1.06057761e+02,  9.12091992e+01,\n",
       "         1.31640997e+02, -3.63674274e+01, -1.86460557e+02, -2.35775845e+01,\n",
       "         6.06955257e+00,  4.25810921e+01, -5.77252569e+01,  4.02537806e+01,\n",
       "        -8.24617882e+01,  1.65226498e+01,  1.26021873e+01,  4.93634073e+01,\n",
       "        -3.83885969e+01,  2.26739790e+01, -6.19707614e+00,  5.19154924e+01,\n",
       "        -8.23809709e+01, -3.76644965e+01,  3.23889033e+01,  2.92542043e+00,\n",
       "         1.76205987e+02, -1.12918481e+02, -6.08616126e+01, -9.87734327e+00,\n",
       "        -5.98878736e+01, -5.96616634e+01, -1.12976722e+01, -1.68309437e+01,\n",
       "         1.48063800e+01, -8.20999347e+00,  1.06737812e+01, -5.26713801e+01,\n",
       "        -1.44389273e+02, -1.39117872e+02, -1.31565026e+02,  2.55540172e+01,\n",
       "        -7.71507828e+00,  7.30593601e+01,  1.65472408e+02, -8.85646322e+01,\n",
       "        -2.90859224e+01, -7.63354004e+00,  2.93237318e+01, -5.77657217e+01,\n",
       "        -4.28817902e+01,  1.09357805e+02, -2.27269619e+02,  1.72012467e+01,\n",
       "        -3.31750211e+01, -8.81583695e+01, -8.19966992e+01,  4.82545198e+01,\n",
       "         7.41875158e+01,  5.28949095e+01, -8.33369737e+01,  8.34611230e+01,\n",
       "        -3.55726578e+01, -1.07238598e+02,  1.36222124e+01, -3.67151071e+01,\n",
       "        -6.66701052e+01, -9.17743339e+01,  1.06676454e+02,  3.09050004e+01,\n",
       "         2.44163958e+01, -8.75395367e+01,  4.22078126e+01, -5.73704080e+01,\n",
       "        -5.54819310e+01,  4.80100732e+01,  5.59031540e+01, -1.95005694e+01,\n",
       "        -2.03487263e+01, -3.98794405e+01, -6.43390137e+01,  3.59788595e+01,\n",
       "         2.57202830e+01,  1.14360969e+02, -3.16475159e+00,  2.56973899e-01,\n",
       "        -6.92196288e+01, -5.21468411e+01,  1.12330749e+02,  4.89538950e+01,\n",
       "         2.36809364e+01, -8.43669292e-01, -2.76155995e+01, -3.62403484e+01,\n",
       "        -4.00247199e+00, -3.66822123e+00,  1.86865487e+02,  9.61638527e+00,\n",
       "         6.79142797e+01, -6.07867403e+01,  1.17998744e+02,  4.41270770e+01,\n",
       "         5.34102372e+01,  1.28117081e+02,  1.06620937e+01, -1.16334505e+02,\n",
       "         7.46269953e+01,  2.71164020e+01, -2.55815035e+01,  4.07562205e+01,\n",
       "         2.77163344e+01, -1.57112734e+02, -6.68425664e+01, -1.41885207e+02,\n",
       "        -5.40679785e+01, -2.12640156e+01, -3.70789853e+00,  1.04132679e+02,\n",
       "         1.25765180e+02, -4.23730442e+01, -6.74581453e+01, -4.67854799e+01,\n",
       "         2.30810574e+01, -2.00262350e+02, -2.50658066e+01, -4.05909581e+00,\n",
       "         1.31147782e+02,  1.16064691e+02, -1.97483932e+01,  3.03388165e+02,\n",
       "         7.89463320e+01, -5.00817709e+01,  1.60702305e+01, -1.41097822e+02,\n",
       "        -2.01788386e+01,  4.89165980e+01, -6.80973336e+01, -1.06465825e+02,\n",
       "         3.92565091e+01,  4.07147731e+01, -2.27194390e+01, -7.35133561e+01,\n",
       "        -6.46513463e+00,  9.61250815e+01,  5.53718113e+00,  2.59893017e+01,\n",
       "         4.56098560e+01,  2.23207262e+02, -1.84504439e+02, -1.67592368e+02,\n",
       "         2.54089660e+01,  5.10002883e+01, -4.91620532e+01, -4.04946534e+01,\n",
       "        -5.19345462e+01, -2.57962323e+01, -2.31531183e+01, -1.27384677e+02,\n",
       "         2.31951266e+02,  4.06255360e+00, -5.75636952e+00,  1.68736482e+01,\n",
       "         1.26085700e+02, -8.94771279e+01, -1.82177946e+02,  1.23145082e+01,\n",
       "        -8.01354148e+00,  7.04930216e+01,  1.06620437e+02, -7.96672194e+01,\n",
       "        -1.02372173e+01, -1.38649956e+02,  6.31035490e+00,  5.43966389e+01,\n",
       "         1.98809261e+02,  3.52834815e+01, -1.63638688e+02,  2.01236949e+02,\n",
       "        -5.85831805e+01,  4.52550445e+01, -2.55236420e+01, -8.06611485e+01,\n",
       "        -2.74130582e+01, -6.47406737e+01,  6.84184758e+01, -2.94136095e+01,\n",
       "         3.98748954e+01, -2.83673534e+01,  9.31603365e+01, -1.48053912e+01,\n",
       "        -2.09225877e+00, -8.94793291e+01, -1.31311094e+02,  5.23619268e+01,\n",
       "         1.41305437e+02,  2.37175193e+02, -3.45044555e+01,  2.72805709e+01,\n",
       "         1.77546202e+01,  1.34517519e+02,  4.63200569e+01,  8.41341316e+01,\n",
       "        -1.34987383e+02, -1.04172833e+02, -3.57424930e+01, -1.10838492e+02,\n",
       "        -1.01279330e+02, -5.20277175e+01,  6.91504690e+01, -2.33440564e+01,\n",
       "        -7.21124528e+01, -7.52644743e+00, -8.22928899e+01, -2.43738743e+01,\n",
       "        -6.87407046e-01,  8.94522856e-01, -8.92992310e+01,  4.59236279e+01,\n",
       "        -1.00721026e+02, -1.07607400e+02,  8.17755853e-01,  2.71562777e+01,\n",
       "        -1.28452775e+02, -1.34581111e+01, -4.49340671e+00, -6.37209754e+00,\n",
       "        -8.16953962e+01,  5.26051445e+01, -1.50063125e+02,  3.89581730e+01,\n",
       "        -5.46241665e+01,  7.66095463e+01,  2.46829087e+00,  1.01785098e+02,\n",
       "        -7.03823902e+01,  5.08490158e+01, -2.83115432e+01, -6.42868464e+01,\n",
       "        -1.12321102e+02, -1.53015495e+01,  9.36534008e+01, -6.81173167e+01,\n",
       "        -1.59600475e+02, -2.91318079e+01,  3.00864271e+01, -5.39211632e+01,\n",
       "        -1.01064002e+02, -7.90409092e+01, -1.59062893e+01,  2.23063711e+01,\n",
       "         4.88005389e+01, -1.92591412e+01, -6.47405473e+01,  1.02043746e+02,\n",
       "         1.28450156e+02,  1.01174528e+02,  8.90831489e+00,  3.08525730e+01,\n",
       "         7.85965234e+01,  5.51808014e+01,  1.64004558e+02, -7.51478715e+00,\n",
       "         1.59459328e+01, -7.84298901e+00, -1.43525109e+01, -1.79456199e+02,\n",
       "         6.27822998e+00, -4.57889271e+00,  7.99028976e+01, -1.21398105e+02,\n",
       "        -6.45160375e+01,  7.47514144e+00, -1.20594298e+02, -2.91941053e+01,\n",
       "        -1.22782840e+02,  6.76769775e+00, -3.36959921e+01,  7.57403529e+01,\n",
       "        -7.74118773e+01,  1.25374745e+01, -3.92853097e+01,  3.96544361e+01,\n",
       "        -1.49116623e+02, -1.33886614e+02,  1.46497074e+02,  7.71805080e+00,\n",
       "         1.88727632e+01, -1.33796114e+02,  1.79320019e+02,  1.60818511e+01,\n",
       "        -5.53408826e+01,  8.19599054e+01, -1.16221275e+00,  9.59409492e+01,\n",
       "         3.82785061e+01,  1.11393314e+02,  5.09649566e+01, -1.59819441e+02,\n",
       "         7.59713794e+00, -6.87331555e+01,  2.20660936e+00, -1.91029176e+02,\n",
       "        -1.20378561e+02,  5.61793173e+00, -1.43874057e+02,  4.63163705e+00,\n",
       "        -4.85440645e+01, -4.42676185e+01, -8.62505079e+01, -2.18033837e+01,\n",
       "        -8.95585195e+01,  1.20585227e+02, -5.11862291e+01,  1.62070875e+02,\n",
       "         9.46463819e+01,  1.03628235e+02,  3.24471184e+01,  3.78558060e+01,\n",
       "        -5.45942856e+01, -6.33089163e+01, -7.76193614e+01,  6.63276479e+01,\n",
       "         1.04077326e+02, -5.33615345e+01,  2.61394241e+01, -4.58931411e+01,\n",
       "         1.02069081e+01,  6.33592076e+01,  1.94031347e+01,  2.40015392e+01,\n",
       "         5.89798109e+01,  3.84209274e+01,  6.44798221e+01, -3.73571863e+01,\n",
       "         7.12932908e+01, -1.54596087e+02, -2.62949259e+01, -3.28755969e+01,\n",
       "         1.68557068e+02, -1.16983955e+02,  8.29425503e+01, -9.01363032e+00,\n",
       "        -2.12082482e+01,  3.30158705e+01,  3.87036496e+01,  3.93523639e+01,\n",
       "         1.49529238e+02,  1.83512127e+02,  9.41043827e+01, -5.37948636e+01,\n",
       "         1.34894998e+02,  3.86613193e+01, -1.05475690e+02,  2.00770780e+02,\n",
       "         2.29358293e+00, -1.05101447e+02,  5.39989563e+01,  1.04967467e+01,\n",
       "        -5.66796968e+01, -9.63729353e+01,  1.18248742e+02,  6.29987330e-01,\n",
       "         5.31315871e+01, -9.38999325e+01, -9.03629953e+01, -2.92326343e+01,\n",
       "        -1.58773247e+02,  4.76747916e+01, -7.66642852e+01,  5.98839887e+01,\n",
       "         2.46479156e+01,  7.07805981e+01, -5.30972601e+01, -2.65547380e+01,\n",
       "         3.36500083e+01, -5.07522757e+01, -1.84215825e+02,  7.27347252e+01,\n",
       "         3.70258450e+01,  5.18977303e+01, -8.94501280e+00, -3.78448246e+01,\n",
       "        -3.35298775e+01,  5.67614231e+01, -5.81674362e+01,  8.95402231e+01,\n",
       "         2.72802408e+01,  1.74509575e+02, -1.33414947e+02,  1.87766947e+02,\n",
       "        -2.05964995e+01, -1.53486166e+00,  6.21745471e+01,  9.44473808e+01,\n",
       "        -1.08311599e+02, -3.82532875e+01,  1.70241931e+02,  4.45050562e+01,\n",
       "         2.42067792e+01, -7.25098251e+01,  2.24583768e+01, -3.55931755e+01,\n",
       "        -5.90946789e+00,  6.81964891e+01, -2.61791323e+01,  4.02113388e+01,\n",
       "         1.33310526e+01, -1.96690083e+01, -2.18260786e+01,  2.06624553e+02]),\n",
       " array([ 0.        , 77.93666483, 30.58872968]))"
      ]
     },
     "execution_count": 10,
     "metadata": {},
     "output_type": "execute_result"
    }
   ],
   "source": [
    "X, y, coef = make_regression(n_samples=1000, n_features=3, n_informative=2, n_targets=1, noise=10, coef=True, random_state=3)\n",
    "X, y, coef"
   ]
  },
  {
   "cell_type": "code",
   "execution_count": 11,
   "metadata": {},
   "outputs": [
    {
     "data": {
      "text/plain": [
       "(array([-0.02945792, -0.00114641, -0.02480371]),\n",
       " array([0.98080589, 1.00632493, 0.98990929]))"
      ]
     },
     "execution_count": 11,
     "metadata": {},
     "output_type": "execute_result"
    }
   ],
   "source": [
    "mean = np.mean(X, axis=0)\n",
    "std = np.std(X, axis=0)\n",
    "\n",
    "mean, std"
   ]
  },
  {
   "cell_type": "code",
   "execution_count": 12,
   "metadata": {},
   "outputs": [
    {
     "data": {
      "text/plain": [
       "array([ 0.7788969 ,  0.08905337, -0.96476347])"
      ]
     },
     "execution_count": 12,
     "metadata": {},
     "output_type": "execute_result"
    }
   ],
   "source": []
  },
  {
   "cell_type": "code",
   "execution_count": null,
   "metadata": {},
   "outputs": [],
   "source": []
  }
 ],
 "metadata": {
  "kernelspec": {
   "display_name": "Python 3",
   "language": "python",
   "name": "python3"
  },
  "language_info": {
   "codemirror_mode": {
    "name": "ipython",
    "version": 3
   },
   "file_extension": ".py",
   "mimetype": "text/x-python",
   "name": "python",
   "nbconvert_exporter": "python",
   "pygments_lexer": "ipython3",
   "version": "3.8.3"
  }
 },
 "nbformat": 4,
 "nbformat_minor": 4
}
