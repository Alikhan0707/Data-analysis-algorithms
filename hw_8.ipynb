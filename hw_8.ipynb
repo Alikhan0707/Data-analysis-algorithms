{
 "cells": [
  {
   "cell_type": "markdown",
   "metadata": {},
   "source": [
    "### 1. Обучить любую модель классификации на датасете IRIS до применения PCA (2 компоненты) и после него. Сравнить качество классификации по отложенной выборке."
   ]
  },
  {
   "cell_type": "code",
   "execution_count": 1,
   "metadata": {},
   "outputs": [],
   "source": [
    "%matplotlib inline\n",
    "import numpy as np\n",
    "from sklearn.datasets import load_iris\n",
    "from sklearn.model_selection import train_test_split\n",
    "import matplotlib.pyplot as plt"
   ]
  },
  {
   "cell_type": "code",
   "execution_count": 2,
   "metadata": {},
   "outputs": [],
   "source": [
    "X, y = load_iris(return_X_y=True)\n",
    "X_train, X_test, y_train, y_test = train_test_split(X, y, test_size=0.3, random_state=42)"
   ]
  },
  {
   "cell_type": "code",
   "execution_count": 3,
   "metadata": {},
   "outputs": [],
   "source": [
    "def accuracy_metric(actual, predicted):\n",
    "    correct = 0\n",
    "    for i in range(len(actual)):\n",
    "        if actual[i] == predicted[i]:\n",
    "            correct += 1\n",
    "    return correct / float(len(actual)) * 100.0"
   ]
  },
  {
   "cell_type": "code",
   "execution_count": 4,
   "metadata": {},
   "outputs": [],
   "source": [
    "# Реализуем класс узла\n",
    "\n",
    "class Node:\n",
    "    \n",
    "    def __init__(self, index, t, true_branch, false_branch):\n",
    "        self.index = index  # индекс признака, по которому ведется сравнение с порогом в этом узле\n",
    "        self.t = t  # значение порога\n",
    "        self.true_branch = true_branch  # поддерево, удовлетворяющее условию в узле\n",
    "        self.false_branch = false_branch  # поддерево, не удовлетворяющее условию в узле"
   ]
  },
  {
   "cell_type": "code",
   "execution_count": 5,
   "metadata": {},
   "outputs": [],
   "source": [
    "# И класс терминального узла (листа)\n",
    "\n",
    "class Leaf:\n",
    "    \n",
    "    def __init__(self, data, labels):\n",
    "        self.data = data\n",
    "        self.labels = labels\n",
    "        self.prediction = self.predict()\n",
    "        \n",
    "    def predict(self):\n",
    "        # подсчет количества объектов разных классов\n",
    "        classes = {}  # сформируем словарь \"класс: количество объектов\"\n",
    "        for label in self.labels:\n",
    "            if label not in classes:\n",
    "                classes[label] = 0\n",
    "            classes[label] += 1\n",
    "            \n",
    "        # найдем класс, количество объектов которого будет максимальным в этом листе и вернем его    \n",
    "        prediction = max(classes, key=classes.get)\n",
    "        return prediction        "
   ]
  },
  {
   "cell_type": "code",
   "execution_count": 6,
   "metadata": {},
   "outputs": [],
   "source": [
    "class Tree:\n",
    "    \n",
    "    # параметры для останова\n",
    "    def __init__(self,\n",
    "                 max_tree_depth_stop=np.inf,\n",
    "                 max_leaf_num_stop=np.inf,\n",
    "                 min_leaf_object_stop=1):\n",
    "        \n",
    "        self.max_depth = max_tree_depth_stop\n",
    "        self.nodes = []\n",
    "        self.leaves = []\n",
    "        self.depth = 0\n",
    "        self.max_leaves = max_leaf_num_stop\n",
    "        self.min_objects = min_leaf_object_stop\n",
    "        self.tree = None\n",
    "        \n",
    "    # Расчет критерия Джини\n",
    "    def gini(self, labels):\n",
    "        # подсчет количества объектов разных классов\n",
    "        classes = {}\n",
    "        for label in labels:\n",
    "            if label not in classes:\n",
    "                classes[label] = 0\n",
    "            classes[label] += 1\n",
    "\n",
    "        # расчет критерия\n",
    "        impurity = 1\n",
    "        for label in classes:\n",
    "            p = classes[label] / len(labels)\n",
    "            impurity -= p ** 2\n",
    "\n",
    "        return impurity\n",
    "    \n",
    "    # Расчет прироста\n",
    "    def gain(self, left_labels, right_labels, root_gini):\n",
    "\n",
    "        # доля выборки, ушедшая в левое поддерево\n",
    "        p = float(left_labels.shape[0]) / (left_labels.shape[0] + right_labels.shape[0])\n",
    "\n",
    "        return root_gini - p * self.gini(left_labels) - (1 - p) * self.gini(right_labels)\n",
    "    \n",
    "    # Разбиение датасета в узле\n",
    "    def split(self, data, labels, column_index, t):\n",
    "\n",
    "        left = np.where(data[:, column_index] <= t)\n",
    "        right = np.where(data[:, column_index] > t)\n",
    "\n",
    "        true_data = data[left]\n",
    "        false_data = data[right]\n",
    "\n",
    "        true_labels = labels[left]\n",
    "        false_labels = labels[right]\n",
    "\n",
    "        return true_data, false_data, true_labels, false_labels\n",
    "    \n",
    "    # Нахождение наилучшего разбиения\n",
    "    def find_best_split(self, data, labels):\n",
    "\n",
    "        #  обозначим минимальное количество объектов в узле\n",
    "        min_samples_leaf = 5\n",
    "\n",
    "        root_gini = self.gini(labels)\n",
    "\n",
    "        best_gain = 0\n",
    "        best_t = None\n",
    "        best_index = None\n",
    "\n",
    "        n_features = data.shape[1]\n",
    "\n",
    "        for index in range(n_features):\n",
    "            # будем проверять только уникальные значения признака, исключая повторения\n",
    "            t_values = np.unique(data[:, index])\n",
    "\n",
    "            for t in t_values:\n",
    "                true_data, false_data, true_labels, false_labels = self.split(data, labels, index, t)\n",
    "                #  пропускаем разбиения, в которых в узле остается менее 5 объектов\n",
    "                if len(true_data) < min_samples_leaf or len(false_data) < min_samples_leaf:\n",
    "                    continue\n",
    "\n",
    "                current_gain = self.gain(true_labels, false_labels, root_gini)\n",
    "\n",
    "                #  выбираем порог, на котором получается максимальный прирост качества\n",
    "                if current_gain > best_gain:\n",
    "                    best_gain, best_t, best_index = current_gain, t, index\n",
    "\n",
    "        return best_gain, best_t, best_index\n",
    "    \n",
    "    # Построение дерева с помощью рекурсивной функции\n",
    "    def build_tree(self, data, labels):\n",
    "\n",
    "        gain, t, index = self.find_best_split(data, labels)\n",
    " \n",
    "        #  Базовый случай 2 - прекращаем рекурсию, когда достигли максимальной глубины дерева\n",
    "        if self.depth > self.max_depth:\n",
    "            self.leaves.append(Leaf(data, labels))\n",
    "            return Leaf(data, labels)\n",
    "        \n",
    "        #  Базовый случай 3 - прекращаем рекурсию, когда достигли максимального количества листьев\n",
    "        if len(self.leaves) >= self.max_leaves - 1 or self.depth >= self.max_leaves - 1:\n",
    "            self.leaves.append(Leaf(data, labels))\n",
    "            return Leaf(data, labels)\n",
    "        \n",
    "        #  Базовый случай 4 - прекращаем рекурсию, когда достигли минимального количества объектов в листе\n",
    "        if len(data) <= self.min_objects:\n",
    "            self.leaves.append(Leaf(data, labels))\n",
    "            return Leaf(data, labels)\n",
    "        \n",
    "         #  Базовый случай 1 - прекращаем рекурсию, когда нет прироста в качества\n",
    "        if gain == 0:\n",
    "            self.leaves.append(Leaf(data, labels))\n",
    "            return Leaf(data, labels)\n",
    "\n",
    "        self.depth += 1\n",
    "        \n",
    "        true_data, false_data, true_labels, false_labels = self.split(data, \n",
    "                                                                      labels, \n",
    "                                                                      index, t)\n",
    "\n",
    "        # Рекурсивно строим два поддерева\n",
    "        true_branch = self.build_tree(true_data, true_labels)\n",
    "        false_branch = self.build_tree(false_data, false_labels)\n",
    "\n",
    "        # Возвращаем класс узла со всеми поддеревьями, то есть целого дерева\n",
    "        self.nodes.append(Node(index, t, true_branch, false_branch))\n",
    "        return Node(index, t, true_branch, false_branch)\n",
    "    \n",
    "    def classify_object(self, obj, node):\n",
    "\n",
    "        if isinstance(node, Leaf):\n",
    "            answer = node.prediction\n",
    "            return answer\n",
    "\n",
    "        if obj[node.index] <= node.t:\n",
    "            return self.classify_object(obj, node.true_branch)\n",
    "        else:\n",
    "            return self.classify_object(obj, node.false_branch)\n",
    "    \n",
    "    def fit(self, data, labels):\n",
    "        self.tree = self.build_tree(data, labels)\n",
    "        return self\n",
    "    \n",
    "    def predict(self, data):\n",
    "    \n",
    "        classes = []\n",
    "        for obj in data:\n",
    "            prediction = self.classify_object(obj, self.tree)\n",
    "            classes.append(prediction)\n",
    "        return classes"
   ]
  },
  {
   "cell_type": "code",
   "execution_count": 7,
   "metadata": {},
   "outputs": [
    {
     "data": {
      "text/plain": [
       "<__main__.Tree at 0x7f90206e4b20>"
      ]
     },
     "execution_count": 7,
     "metadata": {},
     "output_type": "execute_result"
    }
   ],
   "source": [
    "tree_without_pca = Tree(max_tree_depth_stop=5)\n",
    "tree_without_pca.fit(X_train, y_train)"
   ]
  },
  {
   "cell_type": "code",
   "execution_count": 8,
   "metadata": {},
   "outputs": [
    {
     "data": {
      "text/plain": [
       "94.28571428571428"
      ]
     },
     "execution_count": 8,
     "metadata": {},
     "output_type": "execute_result"
    }
   ],
   "source": [
    "accuracy_metric(y_train, tree_without_pca.predict(X_train))"
   ]
  },
  {
   "cell_type": "code",
   "execution_count": 9,
   "metadata": {},
   "outputs": [
    {
     "data": {
      "text/plain": [
       "97.77777777777777"
      ]
     },
     "execution_count": 9,
     "metadata": {},
     "output_type": "execute_result"
    }
   ],
   "source": [
    "accuracy_metric(y_test, tree_without_pca.predict(X_test))"
   ]
  },
  {
   "cell_type": "code",
   "execution_count": 10,
   "metadata": {},
   "outputs": [
    {
     "data": {
      "text/plain": [
       "(array([9.20830507e+03, 3.15454317e+02, 1.19780429e+01, 3.55257020e+00]),\n",
       " array([[ 0.75110816,  0.2841749 ,  0.50215472,  0.32081425],\n",
       "        [ 0.38008617,  0.5467445 , -0.67524332, -0.31725607],\n",
       "        [ 0.51300886, -0.70866455, -0.05916621, -0.48074507],\n",
       "        [ 0.16790754, -0.34367081, -0.53701625,  0.75187165]]))"
      ]
     },
     "execution_count": 10,
     "metadata": {},
     "output_type": "execute_result"
    }
   ],
   "source": [
    "eig_values, eig_vectors = np.linalg.eig(X.T @ X)\n",
    "eig_values, eig_vectors"
   ]
  },
  {
   "cell_type": "code",
   "execution_count": 11,
   "metadata": {},
   "outputs": [
    {
     "data": {
      "text/plain": [
       "[96.53029806531566,\n",
       " 3.3068951313646853,\n",
       " 0.12556535030291444,\n",
       " 0.03724145301674341]"
      ]
     },
     "execution_count": 11,
     "metadata": {},
     "output_type": "execute_result"
    }
   ],
   "source": [
    "eig_values_sum = eig_values.sum()\n",
    "eig_values_importance = [(i / eig_values_sum) * 100 for i in sorted(eig_values, \n",
    "                                                                    reverse=True)]\n",
    "eig_values_importance"
   ]
  },
  {
   "cell_type": "code",
   "execution_count": 12,
   "metadata": {},
   "outputs": [
    {
     "data": {
      "text/plain": [
       "array([[ 0.75110816,  0.2841749 ],\n",
       "       [ 0.38008617,  0.5467445 ],\n",
       "       [ 0.51300886, -0.70866455],\n",
       "       [ 0.16790754, -0.34367081]])"
      ]
     },
     "execution_count": 12,
     "metadata": {},
     "output_type": "execute_result"
    }
   ],
   "source": [
    "vector = np.hstack([eig_vectors.T[i].reshape(4, 1) for i in range(2)])\n",
    "vector"
   ]
  },
  {
   "cell_type": "code",
   "execution_count": 13,
   "metadata": {},
   "outputs": [
    {
     "data": {
      "text/plain": [
       "array([[ 5.91274714e+00,  2.30203322e+00],\n",
       "       [ 5.57248242e+00,  1.97182599e+00],\n",
       "       [ 5.44697714e+00,  2.09520636e+00],\n",
       "       [ 5.43645948e+00,  1.87038151e+00],\n",
       "       [ 5.87564494e+00,  2.32829018e+00],\n",
       "       [ 6.47759822e+00,  2.32464996e+00],\n",
       "       [ 5.51597520e+00,  2.07090423e+00],\n",
       "       [ 5.85092859e+00,  2.14807482e+00],\n",
       "       [ 5.15891972e+00,  1.77506408e+00],\n",
       "       [ 5.64500117e+00,  1.99000106e+00],\n",
       "       [ 6.26539771e+00,  2.42576813e+00],\n",
       "       [ 5.75200785e+00,  2.02037338e+00],\n",
       "       [ 5.48058085e+00,  1.97777558e+00],\n",
       "       [ 4.95112411e+00,  2.04828749e+00],\n",
       "       [ 6.52596417e+00,  2.91606081e+00],\n",
       "       [ 6.79037199e+00,  2.82500759e+00],\n",
       "       [ 6.27239468e+00,  2.60811578e+00],\n",
       "       [ 5.92953789e+00,  2.26766614e+00],\n",
       "       [ 6.64813130e+00,  2.38959506e+00],\n",
       "       [ 6.09486463e+00,  2.36082303e+00],\n",
       "       [ 6.25397363e+00,  2.12001187e+00],\n",
       "       [ 6.07364677e+00,  2.27178150e+00],\n",
       "       [ 5.36999813e+00,  2.49808604e+00],\n",
       "       [ 6.04100482e+00,  1.87698371e+00],\n",
       "       [ 5.90591050e+00,  1.80777402e+00],\n",
       "       [ 5.75019501e+00,  1.85851056e+00],\n",
       "       [ 5.93581099e+00,  2.00847420e+00],\n",
       "       [ 6.03915884e+00,  2.25958425e+00],\n",
       "       [ 5.94984934e+00,  2.27577626e+00],\n",
       "       [ 5.60087980e+00,  1.88260699e+00],\n",
       "       [ 5.63798200e+00,  1.85635003e+00],\n",
       "       [ 6.18495337e+00,  2.19301062e+00],\n",
       "       [ 6.25041979e+00,  2.62199803e+00],\n",
       "       [ 6.47925073e+00,  2.79842433e+00],\n",
       "       [ 5.66179193e+00,  1.95563398e+00],\n",
       "       [ 5.62100870e+00,  2.25132529e+00],\n",
       "       [ 6.16188952e+00,  2.48656963e+00],\n",
       "       [ 5.78374337e+00,  2.33423977e+00],\n",
       "       [ 5.14562746e+00,  1.90060499e+00],\n",
       "       [ 5.92603941e+00,  2.17649231e+00],\n",
       "       [ 5.80312619e+00,  2.31011510e+00],\n",
       "       [ 4.97146870e+00,  1.51193425e+00],\n",
       "       [ 5.22164469e+00,  2.00995389e+00],\n",
       "       [ 6.00740111e+00,  1.99441449e+00],\n",
       "       [ 6.31685893e+00,  2.04299013e+00],\n",
       "       [ 5.51416236e+00,  1.90904141e+00],\n",
       "       [ 6.12937476e+00,  2.32432366e+00],\n",
       "       [ 5.42316721e+00,  1.99592242e+00],\n",
       "       [ 6.19028689e+00,  2.39735064e+00],\n",
       "       [ 5.76161909e+00,  2.16426683e+00],\n",
       "       [ 9.12024508e+00, -7.30558200e-02],\n",
       "       [ 8.58376916e+00, -1.36194931e-01],\n",
       "       [ 9.12651817e+00, -3.32247752e-01],\n",
       "       [ 7.27560832e+00, -4.60955955e-01],\n",
       "       [ 8.55814639e+00, -3.97341697e-01],\n",
       "       [ 7.87237747e+00, -4.85081002e-01],\n",
       "       [ 8.66605949e+00, -2.86037963e-01],\n",
       "       [ 6.45347358e+00,  2.23799845e-02],\n",
       "       [ 8.63768432e+00, -2.45515595e-01],\n",
       "       [ 7.16780021e+00, -2.91011251e-01],\n",
       "       [ 6.47915170e+00, -3.09633237e-01],\n",
       "       [ 7.97829519e+00, -1.75031916e-01],\n",
       "       [ 7.56278153e+00, -2.70441712e-01],\n",
       "       [ 8.33022188e+00, -4.92836582e-01],\n",
       "       [ 7.37356730e+00,  1.78974058e-01],\n",
       "       [ 8.70300135e+00, -3.83374315e-04],\n",
       "       [ 7.90686540e+00, -4.72883753e-01],\n",
       "       [ 7.65390386e+00, -1.24770897e-01],\n",
       "       [ 8.05346136e+00, -7.39774413e-01],\n",
       "       [ 7.34185398e+00, -1.83588948e-01],\n",
       "       [ 8.41249000e+00, -5.93982991e-01],\n",
       "       [ 7.91631631e+00, -1.70787632e-02],\n",
       "       [ 8.44780157e+00, -8.30799394e-01],\n",
       "       [ 8.25863175e+00, -4.78776871e-01],\n",
       "       [ 8.33356003e+00, -8.97512089e-02],\n",
       "       [ 8.58988192e+00, -8.34753146e-02],\n",
       "       [ 8.86928986e+00, -4.19455056e-01],\n",
       "       [ 9.02317031e+00, -5.83357800e-01],\n",
       "       [ 8.16930004e+00, -4.13888242e-01],\n",
       "       [ 7.23297912e+00,  2.17335895e-01],\n",
       "       [ 7.17743366e+00, -1.95814432e-01],\n",
       "       [ 7.10934202e+00, -9.05808962e-02],\n",
       "       [ 7.58488360e+00, -5.17721477e-02],\n",
       "       [ 8.41787888e+00, -9.82802956e-01],\n",
       "       [ 7.75664376e+00, -5.29718734e-01],\n",
       "       [ 8.37613388e+00, -1.74883073e-01],\n",
       "       [ 8.87369476e+00, -2.47349822e-01],\n",
       "       [ 8.08169840e+00, -5.17081855e-01],\n",
       "       [ 7.66808034e+00, -1.20683770e-01],\n",
       "       [ 7.35162556e+00, -3.51607055e-01],\n",
       "       [ 7.57804696e+00, -5.46031346e-01],\n",
       "       [ 8.31692961e+00, -3.67295677e-01],\n",
       "       [ 7.59817587e+00, -1.77313053e-01],\n",
       "       [ 6.49057578e+00, -3.87697543e-03],\n",
       "       [ 7.60535538e+00, -3.55573575e-01],\n",
       "       [ 7.77770129e+00, -1.28765654e-01],\n",
       "       [ 7.75648343e+00, -2.17807185e-01],\n",
       "       [ 8.18333840e+00, -1.46586189e-01],\n",
       "       [ 6.50459193e+00,  3.12121701e-01],\n",
       "       [ 7.66717393e+00, -2.01615180e-01],\n",
       "       [ 9.48408779e+00, -1.51660561e+00],\n",
       "       [ 8.31802951e+00, -1.14273918e+00],\n",
       "       [ 9.85248456e+00, -1.24495426e+00],\n",
       "       [ 9.00931450e+00, -1.21126802e+00],\n",
       "       [ 9.36730953e+00, -1.37895983e+00],\n",
       "       [ 1.05871448e+01, -1.59893200e+00],\n",
       "       [ 7.22462810e+00, -1.01391260e+00],\n",
       "       [ 1.01195289e+01, -1.42315831e+00],\n",
       "       [ 9.26032507e+00, -1.45802877e+00],\n",
       "       [ 1.03254119e+01, -1.16769130e+00],\n",
       "       [ 9.05063906e+00, -7.04811578e-01],\n",
       "       [ 8.87129618e+00, -1.11396715e+00],\n",
       "       [ 9.42194857e+00, -1.04674091e+00],\n",
       "       [ 8.13239132e+00, -1.24400619e+00],\n",
       "       [ 8.43999189e+00, -1.25990013e+00],\n",
       "       [ 9.12850228e+00, -9.78063221e-01],\n",
       "       [ 9.14624386e+00, -1.02889214e+00],\n",
       "       [ 1.10344162e+01, -1.23835244e+00],\n",
       "       [ 1.06977054e+01, -2.07054584e+00],\n",
       "       [ 8.15974415e+00, -1.15094167e+00],\n",
       "       [ 9.70925990e+00, -1.11944159e+00],\n",
       "       [ 8.12000547e+00, -1.03753388e+00],\n",
       "       [ 1.06207486e+01, -1.71636278e+00],\n",
       "       [ 8.57419106e+00, -8.24551736e-01],\n",
       "       [ 9.56346538e+00, -1.05286796e+00],\n",
       "       [ 1.00045412e+01, -1.07495308e+00],\n",
       "       [ 8.48578798e+00, -7.27428321e-01],\n",
       "       [ 8.53799528e+00, -7.17363366e-01],\n",
       "       [ 9.09678896e+00, -1.34062623e+00],\n",
       "       [ 9.79234073e+00, -9.73834912e-01],\n",
       "       [ 1.00708200e+01, -1.34204944e+00],\n",
       "       [ 1.09971537e+01, -9.00183935e-01],\n",
       "       [ 9.11357971e+00, -1.37499331e+00],\n",
       "       [ 8.66442919e+00, -8.08508955e-01],\n",
       "       [ 8.67790400e+00, -1.29465803e+00],\n",
       "       [ 1.04393327e+01, -1.28491639e+00],\n",
       "       [ 9.30010211e+00, -1.14409826e+00],\n",
       "       [ 9.10914166e+00, -1.00263518e+00],\n",
       "       [ 8.41158358e+00, -6.74914401e-01],\n",
       "       [ 9.48376712e+00, -8.92782514e-01],\n",
       "       [ 9.48651952e+00, -1.19445165e+00],\n",
       "       [ 9.36344597e+00, -7.48917309e-01],\n",
       "       [ 8.31802951e+00, -1.14273918e+00],\n",
       "       [ 9.73675086e+00, -1.28959199e+00],\n",
       "       [ 9.63062839e+00, -1.19033628e+00],\n",
       "       [ 9.22651660e+00, -9.31293195e-01],\n",
       "       [ 8.56626547e+00, -1.03913417e+00],\n",
       "       [ 9.02592271e+00, -8.85026933e-01],\n",
       "       [ 9.10559876e+00, -9.96415757e-01],\n",
       "       [ 8.49037542e+00, -9.15931258e-01]])"
      ]
     },
     "execution_count": 13,
     "metadata": {},
     "output_type": "execute_result"
    }
   ],
   "source": [
    "Z = np.dot(X, vector)\n",
    "Z"
   ]
  },
  {
   "cell_type": "code",
   "execution_count": 14,
   "metadata": {},
   "outputs": [],
   "source": [
    "Z_train, Z_test, y_train, y_test = train_test_split(Z, y, test_size=0.3, random_state=42)"
   ]
  },
  {
   "cell_type": "code",
   "execution_count": 15,
   "metadata": {},
   "outputs": [
    {
     "data": {
      "text/plain": [
       "(150, 2)"
      ]
     },
     "execution_count": 15,
     "metadata": {},
     "output_type": "execute_result"
    }
   ],
   "source": [
    "Z.shape"
   ]
  },
  {
   "cell_type": "code",
   "execution_count": 16,
   "metadata": {},
   "outputs": [
    {
     "data": {
      "text/plain": [
       "(150, 4)"
      ]
     },
     "execution_count": 16,
     "metadata": {},
     "output_type": "execute_result"
    }
   ],
   "source": [
    "X.shape"
   ]
  },
  {
   "cell_type": "code",
   "execution_count": 17,
   "metadata": {},
   "outputs": [
    {
     "data": {
      "text/plain": [
       "<__main__.Tree at 0x7f90206fcd00>"
      ]
     },
     "execution_count": 17,
     "metadata": {},
     "output_type": "execute_result"
    }
   ],
   "source": [
    "tree_pca = Tree(max_tree_depth_stop=5)\n",
    "tree_pca.fit(Z_train, y_train)"
   ]
  },
  {
   "cell_type": "code",
   "execution_count": 18,
   "metadata": {},
   "outputs": [
    {
     "data": {
      "text/plain": [
       "98.09523809523809"
      ]
     },
     "execution_count": 18,
     "metadata": {},
     "output_type": "execute_result"
    }
   ],
   "source": [
    "accuracy_metric(y_train, tree_pca.predict(Z_train))"
   ]
  },
  {
   "cell_type": "code",
   "execution_count": 19,
   "metadata": {},
   "outputs": [
    {
     "data": {
      "text/plain": [
       "97.77777777777777"
      ]
     },
     "execution_count": 19,
     "metadata": {},
     "output_type": "execute_result"
    }
   ],
   "source": [
    "accuracy_metric(y_test, tree_pca.predict(Z_test))"
   ]
  },
  {
   "cell_type": "markdown",
   "metadata": {},
   "source": [
    "### 2. *Написать свою реализацию метода главных компонент с помощью сингулярного разложения с использованием функции [numpy.linalg.svd()](https://docs.scipy.org/doc/numpy/reference/generated/numpy.linalg.svd.html)"
   ]
  },
  {
   "cell_type": "code",
   "execution_count": 20,
   "metadata": {},
   "outputs": [],
   "source": [
    "U, D, V = np.linalg.svd(X.T @ X)"
   ]
  },
  {
   "cell_type": "code",
   "execution_count": 21,
   "metadata": {},
   "outputs": [
    {
     "data": {
      "text/plain": [
       "(array([[-0.75110816, -0.2841749 ,  0.50215472,  0.32081425],\n",
       "        [-0.38008617, -0.5467445 , -0.67524332, -0.31725607],\n",
       "        [-0.51300886,  0.70866455, -0.05916621, -0.48074507],\n",
       "        [-0.16790754,  0.34367081, -0.53701625,  0.75187165]]),\n",
       " array([9.20830507e+03, 3.15454317e+02, 1.19780429e+01, 3.55257020e+00]),\n",
       " array([[-0.75110816, -0.38008617, -0.51300886, -0.16790754],\n",
       "        [-0.2841749 , -0.5467445 ,  0.70866455,  0.34367081],\n",
       "        [ 0.50215472, -0.67524332, -0.05916621, -0.53701625],\n",
       "        [ 0.32081425, -0.31725607, -0.48074507,  0.75187165]]))"
      ]
     },
     "execution_count": 21,
     "metadata": {},
     "output_type": "execute_result"
    }
   ],
   "source": [
    "U, D, V"
   ]
  },
  {
   "cell_type": "code",
   "execution_count": 22,
   "metadata": {},
   "outputs": [
    {
     "data": {
      "text/plain": [
       "[96.53029806531565,\n",
       " 3.3068951313646853,\n",
       " 0.12556535030291552,\n",
       " 0.03724145301674215]"
      ]
     },
     "execution_count": 22,
     "metadata": {},
     "output_type": "execute_result"
    }
   ],
   "source": [
    "D_sum = D.sum()\n",
    "D_importance = [(i / D_sum) * 100 for i in D]\n",
    "D_importance"
   ]
  },
  {
   "cell_type": "code",
   "execution_count": 23,
   "metadata": {},
   "outputs": [],
   "source": [
    "vector = np.hstack([V[i].reshape(4, 1) for i in range(2)])\n",
    "Z = np.dot(X, vector)\n",
    "Z = Z * -1"
   ]
  },
  {
   "cell_type": "code",
   "execution_count": 24,
   "metadata": {},
   "outputs": [],
   "source": [
    "Z_train, Z_test, y_train, y_test = train_test_split(Z, y, test_size=0.3, random_state=42)"
   ]
  },
  {
   "cell_type": "code",
   "execution_count": 25,
   "metadata": {},
   "outputs": [
    {
     "data": {
      "text/plain": [
       "<__main__.Tree at 0x7f902073b790>"
      ]
     },
     "execution_count": 25,
     "metadata": {},
     "output_type": "execute_result"
    }
   ],
   "source": [
    "tree_pca_svd = Tree(max_tree_depth_stop=5)\n",
    "tree_pca_svd.fit(Z_train, y_train)"
   ]
  },
  {
   "cell_type": "code",
   "execution_count": 26,
   "metadata": {},
   "outputs": [
    {
     "data": {
      "text/plain": [
       "98.09523809523809"
      ]
     },
     "execution_count": 26,
     "metadata": {},
     "output_type": "execute_result"
    }
   ],
   "source": [
    "accuracy_metric(y_train, tree_pca.predict(Z_train))"
   ]
  },
  {
   "cell_type": "code",
   "execution_count": 27,
   "metadata": {},
   "outputs": [
    {
     "data": {
      "text/plain": [
       "97.77777777777777"
      ]
     },
     "execution_count": 27,
     "metadata": {},
     "output_type": "execute_result"
    }
   ],
   "source": [
    "accuracy_metric(y_test, tree_pca.predict(Z_test))"
   ]
  }
 ],
 "metadata": {
  "kernelspec": {
   "display_name": "Python 3",
   "language": "python",
   "name": "python3"
  },
  "language_info": {
   "codemirror_mode": {
    "name": "ipython",
    "version": 3
   },
   "file_extension": ".py",
   "mimetype": "text/x-python",
   "name": "python",
   "nbconvert_exporter": "python",
   "pygments_lexer": "ipython3",
   "version": "3.8.3"
  }
 },
 "nbformat": 4,
 "nbformat_minor": 4
}
